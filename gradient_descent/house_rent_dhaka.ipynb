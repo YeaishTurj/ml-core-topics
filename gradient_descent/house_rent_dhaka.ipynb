{
 "cells": [
  {
   "cell_type": "code",
   "execution_count": 1,
   "id": "a32389ea",
   "metadata": {},
   "outputs": [
    {
     "data": {
      "text/html": [
       "<div>\n",
       "<style scoped>\n",
       "    .dataframe tbody tr th:only-of-type {\n",
       "        vertical-align: middle;\n",
       "    }\n",
       "\n",
       "    .dataframe tbody tr th {\n",
       "        vertical-align: top;\n",
       "    }\n",
       "\n",
       "    .dataframe thead th {\n",
       "        text-align: right;\n",
       "    }\n",
       "</style>\n",
       "<table border=\"1\" class=\"dataframe\">\n",
       "  <thead>\n",
       "    <tr style=\"text-align: right;\">\n",
       "      <th></th>\n",
       "      <th>Unnamed: 0</th>\n",
       "      <th>Location</th>\n",
       "      <th>Area</th>\n",
       "      <th>Bed</th>\n",
       "      <th>Bath</th>\n",
       "      <th>Price</th>\n",
       "    </tr>\n",
       "  </thead>\n",
       "  <tbody>\n",
       "    <tr>\n",
       "      <th>0</th>\n",
       "      <td>0</td>\n",
       "      <td>Block H, Bashundhara R-A, Dhaka</td>\n",
       "      <td>1,600 sqft</td>\n",
       "      <td>3</td>\n",
       "      <td>3</td>\n",
       "      <td>20 Thousand</td>\n",
       "    </tr>\n",
       "    <tr>\n",
       "      <th>1</th>\n",
       "      <td>1</td>\n",
       "      <td>Farmgate, Tejgaon, Dhaka</td>\n",
       "      <td>900 sqft</td>\n",
       "      <td>2</td>\n",
       "      <td>2</td>\n",
       "      <td>20 Thousand</td>\n",
       "    </tr>\n",
       "    <tr>\n",
       "      <th>2</th>\n",
       "      <td>2</td>\n",
       "      <td>Block B, Nobodoy Housing Society, Mohammadpur,...</td>\n",
       "      <td>1,250 sqft</td>\n",
       "      <td>3</td>\n",
       "      <td>3</td>\n",
       "      <td>18 Thousand</td>\n",
       "    </tr>\n",
       "    <tr>\n",
       "      <th>3</th>\n",
       "      <td>3</td>\n",
       "      <td>Gulshan 1, Gulshan, Dhaka</td>\n",
       "      <td>2,200 sqft</td>\n",
       "      <td>3</td>\n",
       "      <td>4</td>\n",
       "      <td>75 Thousand</td>\n",
       "    </tr>\n",
       "    <tr>\n",
       "      <th>4</th>\n",
       "      <td>4</td>\n",
       "      <td>Baridhara, Dhaka</td>\n",
       "      <td>2,200 sqft</td>\n",
       "      <td>3</td>\n",
       "      <td>3</td>\n",
       "      <td>75 Thousand</td>\n",
       "    </tr>\n",
       "  </tbody>\n",
       "</table>\n",
       "</div>"
      ],
      "text/plain": [
       "   Unnamed: 0                                           Location        Area  \\\n",
       "0           0                    Block H, Bashundhara R-A, Dhaka  1,600 sqft   \n",
       "1           1                           Farmgate, Tejgaon, Dhaka    900 sqft   \n",
       "2           2  Block B, Nobodoy Housing Society, Mohammadpur,...  1,250 sqft   \n",
       "3           3                          Gulshan 1, Gulshan, Dhaka  2,200 sqft   \n",
       "4           4                                   Baridhara, Dhaka  2,200 sqft   \n",
       "\n",
       "   Bed  Bath        Price  \n",
       "0    3     3  20 Thousand  \n",
       "1    2     2  20 Thousand  \n",
       "2    3     3  18 Thousand  \n",
       "3    3     4  75 Thousand  \n",
       "4    3     3  75 Thousand  "
      ]
     },
     "execution_count": 1,
     "metadata": {},
     "output_type": "execute_result"
    }
   ],
   "source": [
    "import pandas as pd\n",
    "import numpy as np\n",
    "\n",
    "df = pd.read_csv(\"House_Rent_Dhaka.csv\")\n",
    "df.head()\n"
   ]
  },
  {
   "cell_type": "code",
   "execution_count": 2,
   "id": "e4f0bdc6",
   "metadata": {},
   "outputs": [
    {
     "name": "stdout",
     "output_type": "stream",
     "text": [
      "<class 'pandas.core.frame.DataFrame'>\n",
      "RangeIndex: 28800 entries, 0 to 28799\n",
      "Data columns (total 6 columns):\n",
      " #   Column      Non-Null Count  Dtype \n",
      "---  ------      --------------  ----- \n",
      " 0   Unnamed: 0  28800 non-null  int64 \n",
      " 1   Location    28800 non-null  object\n",
      " 2   Area        28800 non-null  object\n",
      " 3   Bed         28800 non-null  int64 \n",
      " 4   Bath        28800 non-null  int64 \n",
      " 5   Price       28800 non-null  object\n",
      "dtypes: int64(3), object(3)\n",
      "memory usage: 1.3+ MB\n"
     ]
    }
   ],
   "source": [
    "df.info()"
   ]
  },
  {
   "cell_type": "code",
   "execution_count": 3,
   "id": "83fda2fc",
   "metadata": {},
   "outputs": [],
   "source": [
    "# Convert 'Area' from strings like '1,000 sqft' → 1000\n",
    "\n",
    "df['Area'] = df['Area'].astype(str)\n",
    "df['Price'] = df['Price'].astype(str)\n",
    "df['Area'] = df['Area'].str.replace(',', '', regex=True)\n",
    "df['Area'] = df['Area'].str.replace(' sqft', '', regex=True)\n",
    "df['Area'] = df['Area'].astype(int)"
   ]
  },
  {
   "cell_type": "code",
   "execution_count": 4,
   "id": "ad034319",
   "metadata": {},
   "outputs": [],
   "source": [
    "# Convert 'Price' from strings like '75 Thousand' → 75000\n",
    "\n",
    "def convert_price(price_str):\n",
    "    if 'Thousand' in price_str:\n",
    "        return int(float(price_str.replace(' Thousand', '')) * 1000)\n",
    "    elif 'Lakh' in price_str:\n",
    "        return int(float(price_str.replace(' Lakh', '')) * 100000)\n",
    "    else:\n",
    "        return None  # unexpected format\n",
    "\n",
    "df['Price'] = df['Price'].apply(convert_price)"
   ]
  },
  {
   "cell_type": "code",
   "execution_count": 5,
   "id": "59498d9d",
   "metadata": {},
   "outputs": [
    {
     "data": {
      "text/html": [
       "<div>\n",
       "<style scoped>\n",
       "    .dataframe tbody tr th:only-of-type {\n",
       "        vertical-align: middle;\n",
       "    }\n",
       "\n",
       "    .dataframe tbody tr th {\n",
       "        vertical-align: top;\n",
       "    }\n",
       "\n",
       "    .dataframe thead th {\n",
       "        text-align: right;\n",
       "    }\n",
       "</style>\n",
       "<table border=\"1\" class=\"dataframe\">\n",
       "  <thead>\n",
       "    <tr style=\"text-align: right;\">\n",
       "      <th></th>\n",
       "      <th>Unnamed: 0</th>\n",
       "      <th>Location</th>\n",
       "      <th>Area</th>\n",
       "      <th>Bed</th>\n",
       "      <th>Bath</th>\n",
       "      <th>Price</th>\n",
       "    </tr>\n",
       "  </thead>\n",
       "  <tbody>\n",
       "    <tr>\n",
       "      <th>0</th>\n",
       "      <td>0</td>\n",
       "      <td>Block H, Bashundhara R-A, Dhaka</td>\n",
       "      <td>1600</td>\n",
       "      <td>3</td>\n",
       "      <td>3</td>\n",
       "      <td>20000</td>\n",
       "    </tr>\n",
       "    <tr>\n",
       "      <th>1</th>\n",
       "      <td>1</td>\n",
       "      <td>Farmgate, Tejgaon, Dhaka</td>\n",
       "      <td>900</td>\n",
       "      <td>2</td>\n",
       "      <td>2</td>\n",
       "      <td>20000</td>\n",
       "    </tr>\n",
       "    <tr>\n",
       "      <th>2</th>\n",
       "      <td>2</td>\n",
       "      <td>Block B, Nobodoy Housing Society, Mohammadpur,...</td>\n",
       "      <td>1250</td>\n",
       "      <td>3</td>\n",
       "      <td>3</td>\n",
       "      <td>18000</td>\n",
       "    </tr>\n",
       "    <tr>\n",
       "      <th>3</th>\n",
       "      <td>3</td>\n",
       "      <td>Gulshan 1, Gulshan, Dhaka</td>\n",
       "      <td>2200</td>\n",
       "      <td>3</td>\n",
       "      <td>4</td>\n",
       "      <td>75000</td>\n",
       "    </tr>\n",
       "    <tr>\n",
       "      <th>4</th>\n",
       "      <td>4</td>\n",
       "      <td>Baridhara, Dhaka</td>\n",
       "      <td>2200</td>\n",
       "      <td>3</td>\n",
       "      <td>3</td>\n",
       "      <td>75000</td>\n",
       "    </tr>\n",
       "  </tbody>\n",
       "</table>\n",
       "</div>"
      ],
      "text/plain": [
       "   Unnamed: 0                                           Location  Area  Bed  \\\n",
       "0           0                    Block H, Bashundhara R-A, Dhaka  1600    3   \n",
       "1           1                           Farmgate, Tejgaon, Dhaka   900    2   \n",
       "2           2  Block B, Nobodoy Housing Society, Mohammadpur,...  1250    3   \n",
       "3           3                          Gulshan 1, Gulshan, Dhaka  2200    3   \n",
       "4           4                                   Baridhara, Dhaka  2200    3   \n",
       "\n",
       "   Bath  Price  \n",
       "0     3  20000  \n",
       "1     2  20000  \n",
       "2     3  18000  \n",
       "3     4  75000  \n",
       "4     3  75000  "
      ]
     },
     "execution_count": 5,
     "metadata": {},
     "output_type": "execute_result"
    }
   ],
   "source": [
    "df.head()"
   ]
  },
  {
   "cell_type": "code",
   "execution_count": 6,
   "id": "1a81a222",
   "metadata": {},
   "outputs": [
    {
     "data": {
      "text/plain": [
       "Location\n",
       "Mohammadpur, Dhaka                     757\n",
       "Mirpur, Dhaka                          556\n",
       "Block D, Section 12, Mirpur, Dhaka     417\n",
       "Dhanmondi, Dhaka                       414\n",
       "Block E, Section 12, Mirpur, Dhaka     411\n",
       "                                      ... \n",
       "2nd Lane, Gopibag, Motijheel, Dhaka      1\n",
       "Block D2, Section 10, Mirpur, Dhaka      1\n",
       "Block D, Aftab Nagar, Dhaka              1\n",
       "Panthapath, Kathalbagan, Dhaka           1\n",
       "Chowdhury Bazar, Lalbagh, Dhaka          1\n",
       "Name: count, Length: 730, dtype: int64"
      ]
     },
     "execution_count": 6,
     "metadata": {},
     "output_type": "execute_result"
    }
   ],
   "source": [
    "df['Location'].value_counts()\n"
   ]
  },
  {
   "cell_type": "code",
   "execution_count": 7,
   "id": "f822c990",
   "metadata": {},
   "outputs": [],
   "source": [
    "df['Location'] = df['Location'].astype(str)  # just in case\n",
    "df['Location'] = df['Location'].astype('category').cat.codes"
   ]
  },
  {
   "cell_type": "code",
   "execution_count": 8,
   "id": "ecfd4a55",
   "metadata": {},
   "outputs": [
    {
     "data": {
      "text/plain": [
       "Location\n",
       "462    757\n",
       "452    556\n",
       "194    417\n",
       "297    414\n",
       "212    411\n",
       "      ... \n",
       "3        1\n",
       "199      1\n",
       "169      1\n",
       "526      1\n",
       "288      1\n",
       "Name: count, Length: 730, dtype: int64"
      ]
     },
     "execution_count": 8,
     "metadata": {},
     "output_type": "execute_result"
    }
   ],
   "source": [
    "df['Location'].value_counts()"
   ]
  },
  {
   "cell_type": "code",
   "execution_count": 9,
   "id": "72c39779",
   "metadata": {},
   "outputs": [],
   "source": [
    "df = df.loc[:, ~df.columns.str.contains('^Unnamed')]\n"
   ]
  },
  {
   "cell_type": "code",
   "execution_count": 10,
   "id": "72323108",
   "metadata": {},
   "outputs": [
    {
     "name": "stdout",
     "output_type": "stream",
     "text": [
      "X shape: (28800, 4)\n",
      "y shape: (28800,)\n",
      "   Location  Area  Bed  Bath\n",
      "0       238  1600    3     3\n",
      "1       329   900    2     2\n",
      "2       125  1250    3     3\n",
      "3       346  2200    3     4\n",
      "4        59  2200    3     3\n"
     ]
    }
   ],
   "source": [
    "# Target (what we want to predict)\n",
    "y = df['Price']\n",
    "\n",
    "# Features (everything else except 'Price')\n",
    "X = df.drop(columns=['Price'])\n",
    "print(\"X shape:\", X.shape)\n",
    "print(\"y shape:\", y.shape)\n",
    "print(X.head())\n"
   ]
  },
  {
   "cell_type": "code",
   "execution_count": 11,
   "id": "33fc619f",
   "metadata": {},
   "outputs": [],
   "source": [
    "from sklearn.model_selection import train_test_split\n",
    "\n",
    "X_train, X_test, y_train, y_test = train_test_split(\n",
    "    X, y, test_size=0.2, random_state=42\n",
    ")\n"
   ]
  },
  {
   "cell_type": "code",
   "execution_count": 12,
   "id": "4b9921bc",
   "metadata": {},
   "outputs": [
    {
     "data": {
      "image/png": "[encoded data removed]",
      "text/plain": [
       "<Figure size 1200x500 with 1 Axes>"
      ]
     },
     "metadata": {},
     "output_type": "display_data"
    }
   ],
   "source": [
    "import matplotlib.pyplot as plt\n",
    "import seaborn as sns\n",
    "\n",
    "# Create a DataFrame copy of unscaled X_train\n",
    "X_train_df = pd.DataFrame(X_train, columns=X.columns)\n",
    "\n",
    "plt.figure(figsize=(12, 5))\n",
    "sns.boxplot(data=X_train_df)\n",
    "plt.title(\"Feature Values Before Scaling\")\n",
    "plt.xticks(rotation=45)\n",
    "plt.grid(True)\n",
    "plt.show()\n"
   ]
  },
  {
   "cell_type": "code",
   "execution_count": 13,
   "id": "48883564",
   "metadata": {},
   "outputs": [],
   "source": [
    "from sklearn.preprocessing import StandardScaler\n",
    "\n",
    "scaler = StandardScaler()\n",
    "\n",
    "X_train_scaled = scaler.fit_transform(X_train)\n",
    "X_test_scaled = scaler.transform(X_test)\n"
   ]
  },
  {
   "cell_type": "code",
   "execution_count": 14,
   "id": "2fa9f920",
   "metadata": {},
   "outputs": [
    {
     "data": {
      "image/png": "[encoded data removed]",
      "text/plain": [
       "<Figure size 1200x500 with 1 Axes>"
      ]
     },
     "metadata": {},
     "output_type": "display_data"
    }
   ],
   "source": [
    "# Convert the scaled NumPy array back to DataFrame\n",
    "X_scaled_df = pd.DataFrame(X_train_scaled, columns=X.columns)\n",
    "\n",
    "plt.figure(figsize=(12, 5))\n",
    "sns.boxplot(data=X_scaled_df)\n",
    "plt.title(\"Feature Values After Standard Scaling\")\n",
    "plt.xticks(rotation=45)\n",
    "plt.grid(True)\n",
    "plt.show()\n"
   ]
  },
  {
   "cell_type": "code",
   "execution_count": 15,
   "id": "34f9ba71",
   "metadata": {},
   "outputs": [
    {
     "name": "stdout",
     "output_type": "stream",
     "text": [
      "Index(['Location', 'Area', 'Bed', 'Bath', 'Price'], dtype='object')\n"
     ]
    }
   ],
   "source": [
    "print(df.columns)"
   ]
  },
  {
   "cell_type": "markdown",
   "id": "d16ae4e5",
   "metadata": {},
   "source": [
    "---\n",
    "> # Linear Regression\n",
    "---"
   ]
  },
  {
   "cell_type": "code",
   "execution_count": 16,
   "id": "f631bf30",
   "metadata": {},
   "outputs": [
    {
     "name": "stdout",
     "output_type": "stream",
     "text": [
      "Intercept (beta_0): 21085.088758680555\n",
      "Coefficients (beta_1...n): [-1.37261945e+01  2.53725972e+04 -6.44152015e+03 -5.17619551e+03]\n"
     ]
    }
   ],
   "source": [
    "\n",
    "from sklearn.linear_model import LinearRegression\n",
    "from sklearn.metrics import r2_score, mean_squared_error\n",
    "\n",
    "# Train the model\n",
    "lr = LinearRegression()\n",
    "lr.fit(X_train_scaled, y_train)\n",
    "\n",
    "# Predict\n",
    "y_pred_lr = lr.predict(X_test_scaled)\n",
    "\n",
    "print(\"Intercept (beta_0):\", lr.intercept_)\n",
    "print(\"Coefficients (beta_1...n):\", lr.coef_)\n"
   ]
  },
  {
   "cell_type": "code",
   "execution_count": 17,
   "id": "8f0d0d6c",
   "metadata": {},
   "outputs": [
    {
     "name": "stdout",
     "output_type": "stream",
     "text": [
      "📊 Linear Regression (sklearn) Results:\n",
      "R² Score: 0.6484936665661843\n"
     ]
    }
   ],
   "source": [
    "# Evaluate\n",
    "r2_lr = r2_score(y_test, y_pred_lr)\n",
    "mse_lr = mean_squared_error(y_test, y_pred_lr)\n",
    "\n",
    "print(\"📊 Linear Regression (sklearn) Results:\")\n",
    "print(\"R² Score:\", r2_lr)"
   ]
  },
  {
   "cell_type": "markdown",
   "id": "0c3c6789",
   "metadata": {},
   "source": [
    "---\n",
    "> # Batch Gradient Descent\n",
    "---"
   ]
  },
  {
   "cell_type": "code",
   "execution_count": 18,
   "id": "5b50336d",
   "metadata": {},
   "outputs": [],
   "source": [
    "class BatchGradientDescent:\n",
    "\n",
    "    def __init__(self, learning_rate=0.01, n_epochs=1000):\n",
    "        self.coefficients_ = None\n",
    "        self.intercept_ = None\n",
    "        self.lr = learning_rate\n",
    "        self.n_epochs = n_epochs\n",
    "\n",
    "    def fit(self, X_train, y_train):\n",
    "        self.intercept_ = 0  # beta_0\n",
    "        self.coefficients_ = np.ones(X_train.shape[1])  # beta_1, beta_2, ...\n",
    "\n",
    "        for i in range(self.n_epochs):\n",
    "            y_pred = np.dot(X_train, self.coefficients_) + self.intercept_\n",
    "            \n",
    "            # Gradients\n",
    "            slope_intercept = -2 * np.mean(y_train - y_pred)\n",
    "            slope_coefficients = -2 * np.dot((y_train - y_pred), X_train) / X_train.shape[0]\n",
    "\n",
    "            # Updates\n",
    "            self.intercept_ -= self.lr * slope_intercept\n",
    "            self.coefficients_ -= self.lr * slope_coefficients\n",
    "\n",
    "        print(\"Intercept (beta_0):\", self.intercept_)\n",
    "        print(\"Coefficients (beta_1...n):\", self.coefficients_)\n",
    "\n",
    "    def predict(self, X_test):\n",
    "        return np.dot(X_test, self.coefficients_) + self.intercept_\n"
   ]
  },
  {
   "cell_type": "code",
   "execution_count": 19,
   "id": "5024f808",
   "metadata": {},
   "outputs": [
    {
     "name": "stdout",
     "output_type": "stream",
     "text": [
      "Intercept (beta_0): 21085.088723195036\n",
      "Coefficients (beta_1...n): [-1.77348654e+01  2.49721578e+04 -6.32498978e+03 -4.88865458e+03]\n"
     ]
    }
   ],
   "source": [
    "bgd = BatchGradientDescent(learning_rate=0.01, n_epochs=1000)\n",
    "bgd.fit(X_train_scaled, y_train)\n",
    "y_pred_bgd = bgd.predict(X_test_scaled)\n"
   ]
  },
  {
   "cell_type": "code",
   "execution_count": 20,
   "id": "083cafc1",
   "metadata": {},
   "outputs": [
    {
     "name": "stdout",
     "output_type": "stream",
     "text": [
      "📊 Batch Gradient Descent Results:\n",
      "R² Score: 0.6484095201767446\n"
     ]
    }
   ],
   "source": [
    "r2_bgd = r2_score(y_test, y_pred_bgd)\n",
    "mse_bgd = mean_squared_error(y_test, y_pred_bgd)\n",
    "\n",
    "print(\"📊 Batch Gradient Descent Results:\")\n",
    "print(\"R² Score:\", r2_bgd)\n"
   ]
  },
  {
   "cell_type": "markdown",
   "id": "2baa517d",
   "metadata": {},
   "source": [
    "---\n",
    "> # Stochastic Gradient Descent\n",
    "---"
   ]
  },
  {
   "cell_type": "code",
   "execution_count": 21,
   "id": "b947d28a",
   "metadata": {},
   "outputs": [],
   "source": [
    "class StochasticGradientDescent:\n",
    "\n",
    "    def __init__(self, n_epochs=1000):\n",
    "        self.coefficients_ = None\n",
    "        self.intercept_ = None\n",
    "        self.n_epochs = n_epochs\n",
    "        self.t0 = 5\n",
    "        self.t1 = 50\n",
    "\n",
    "    def learning_rate(self, t):\n",
    "        return self.t0 / (t + self.t1)\n",
    "\n",
    "    def fit(self, X_train, y_train):\n",
    "        n_samples, n_features = X_train.shape\n",
    "        self.intercept_ = 0  # beta_0\n",
    "        self.coefficients_ = np.ones(n_features)  # beta_1, beta_2, ...\n",
    "\n",
    "        for i in range(self.n_epochs):\n",
    "            for j in range(n_samples):\n",
    "                index = np.random.randint(n_samples)\n",
    "\n",
    "                y_pred = np.dot(X_train[index], self.coefficients_) + self.intercept_\n",
    "\n",
    "                # Gradients\n",
    "                slope_intercept = -2 * (y_train[index] - y_pred)\n",
    "                slope_coefficients = -2 * (y_train[index] - y_pred) * X_train[index]\n",
    "\n",
    "                # Learning rate\n",
    "                self.lr = self.learning_rate(i * n_samples + j)\n",
    "\n",
    "                # Update step\n",
    "                self.intercept_ -= self.lr * slope_intercept\n",
    "                self.coefficients_ -= self.lr * slope_coefficients\n",
    "\n",
    "        print(\"Intercept:\", self.intercept_)\n",
    "        print(\"Coefficients:\", self.coefficients_)\n",
    "\n",
    "    def predict(self, X_test):\n",
    "        return np.dot(X_test, self.coefficients_) + self.intercept_\n"
   ]
  },
  {
   "cell_type": "code",
   "execution_count": 22,
   "id": "e391ca8c",
   "metadata": {},
   "outputs": [
    {
     "name": "stdout",
     "output_type": "stream",
     "text": [
      "Intercept: 21151.31221931472\n",
      "Coefficients: [-1.04222367e+01  2.59201673e+04 -6.65698449e+03 -5.39996753e+03]\n"
     ]
    }
   ],
   "source": [
    "sgd = StochasticGradientDescent(n_epochs=20)\n",
    "sgd.fit(X_train_scaled, y_train.values)\n",
    "y_pred_sgd = sgd.predict(X_test_scaled)\n"
   ]
  },
  {
   "cell_type": "code",
   "execution_count": 23,
   "id": "be6bef6d",
   "metadata": {},
   "outputs": [
    {
     "name": "stdout",
     "output_type": "stream",
     "text": [
      "📊 Stochastic Gradient Descent Results:\n",
      "R² Score: 0.648483521328981\n"
     ]
    }
   ],
   "source": [
    "r2_sgd = r2_score(y_test, y_pred_sgd)\n",
    "mse_sgd = mean_squared_error(y_test, y_pred_sgd)\n",
    "\n",
    "print(\"📊 Stochastic Gradient Descent Results:\")\n",
    "print(\"R² Score:\", r2_sgd)"
   ]
  },
  {
   "cell_type": "markdown",
   "id": "2a2331bd",
   "metadata": {},
   "source": [
    "---\n",
    "> # Mini-Batch Gradient Descent\n",
    "---"
   ]
  },
  {
   "cell_type": "code",
   "execution_count": 24,
   "id": "054462e0",
   "metadata": {},
   "outputs": [],
   "source": [
    "class MiniBatchGD:\n",
    "\n",
    "    def __init__(self, batch_size, learning_rate=0.01, n_epochs=1000):\n",
    "        self.coefficients_ = None\n",
    "        self.intercept_ = None\n",
    "        self.lr = learning_rate\n",
    "        self.n_epochs = n_epochs\n",
    "        self.batch_size = batch_size\n",
    "\n",
    "    def fit(self, X_train, y_train):\n",
    "        n_samples, n_features = X_train.shape\n",
    "        self.intercept_ = 0\n",
    "        self.coefficients_ = np.ones(n_features)\n",
    "\n",
    "        for i in range(self.n_epochs):\n",
    "            # Shuffle dataset\n",
    "            indices = np.random.permutation(n_samples)\n",
    "            X_shuffled = X_train[indices]\n",
    "            y_shuffled = y_train[indices]\n",
    "\n",
    "            # Mini-batch loop\n",
    "            for start in range(0, n_samples, self.batch_size): # no_of_batches\n",
    "                end = start + self.batch_size\n",
    "                X_batch = X_shuffled[start:end]\n",
    "                y_batch = y_shuffled[start:end]\n",
    "\n",
    "                y_pred = np.dot(X_batch, self.coefficients_) + self.intercept_\n",
    "\n",
    "                # Gradients\n",
    "                slope_intercept = -2 * np.mean(y_batch - y_pred)\n",
    "                slope_coefficients = -2 * np.dot(y_batch - y_pred, X_batch) / len(X_batch) # most of the len(X_batch) == self.batch_size\n",
    "\n",
    "                # Updates\n",
    "                self.intercept_ -= self.lr * slope_intercept\n",
    "                self.coefficients_ -= self.lr * slope_coefficients\n",
    "\n",
    "        print(\"Intercept:\", self.intercept_)\n",
    "        print(\"Coefficients:\", self.coefficients_)\n",
    "\n",
    "    def predict(self, X_test):\n",
    "        return np.dot(X_test, self.coefficients_) + self.intercept_\n"
   ]
  },
  {
   "cell_type": "code",
   "execution_count": 25,
   "id": "7ecdd4ad",
   "metadata": {},
   "outputs": [
    {
     "name": "stdout",
     "output_type": "stream",
     "text": [
      "Intercept: 21050.60608177939\n",
      "Coefficients: [  116.19148804 24796.27580701 -6761.18144948 -4915.23837559]\n"
     ]
    }
   ],
   "source": [
    "mbgd = MiniBatchGD(batch_size=32, learning_rate=0.01, n_epochs=40)\n",
    "mbgd.fit(X_train_scaled, y_train.values)\n",
    "y_pred_mbgd = mbgd.predict(X_test_scaled)\n"
   ]
  },
  {
   "cell_type": "code",
   "execution_count": 26,
   "id": "5df1ccd8",
   "metadata": {},
   "outputs": [
    {
     "name": "stdout",
     "output_type": "stream",
     "text": [
      "📊 Mini-Batch Gradient Descent Results:\n",
      "R² Score: 0.6469661771214863\n"
     ]
    }
   ],
   "source": [
    "r2_mbgd = r2_score(y_test, y_pred_mbgd)\n",
    "mse_mbgd = mean_squared_error(y_test, y_pred_mbgd)\n",
    "\n",
    "print(\"📊 Mini-Batch Gradient Descent Results:\")\n",
    "print(\"R² Score:\", r2_mbgd)"
   ]
  },
  {
   "cell_type": "markdown",
   "id": "63b40e13",
   "metadata": {},
   "source": [
    "## 📊 Model Performance Summary\n",
    "\n",
    "- **R² Score** shows how well the model explains the variability in rent.\n",
    "- **Intercept and Coefficients** are the parameters learned during training.\n",
    "\n",
    "The models include:\n",
    "- `LinearRegression` from scikit-learn (as a benchmark)\n",
    "- Custom implementations of:\n",
    "  - **Batch Gradient Descent**\n",
    "  - **Stochastic Gradient Descent**\n",
    "  - **Mini-Batch Gradient Descent**\n"
   ]
  },
  {
   "cell_type": "code",
   "execution_count": 27,
   "id": "3d833f43",
   "metadata": {},
   "outputs": [
    {
     "data": {
      "text/html": [
       "<div>\n",
       "<style scoped>\n",
       "    .dataframe tbody tr th:only-of-type {\n",
       "        vertical-align: middle;\n",
       "    }\n",
       "\n",
       "    .dataframe tbody tr th {\n",
       "        vertical-align: top;\n",
       "    }\n",
       "\n",
       "    .dataframe thead th {\n",
       "        text-align: right;\n",
       "    }\n",
       "</style>\n",
       "<table border=\"1\" class=\"dataframe\">\n",
       "  <thead>\n",
       "    <tr style=\"text-align: right;\">\n",
       "      <th></th>\n",
       "      <th>Model</th>\n",
       "      <th>R² Score</th>\n",
       "      <th>Intercept</th>\n",
       "      <th>Coefficients</th>\n",
       "    </tr>\n",
       "  </thead>\n",
       "  <tbody>\n",
       "    <tr>\n",
       "      <th>0</th>\n",
       "      <td>Linear Regression (sklearn)</td>\n",
       "      <td>0.648494</td>\n",
       "      <td>21085.088759</td>\n",
       "      <td>[-13.726194482007166, 25372.59715663501, -6441...</td>\n",
       "    </tr>\n",
       "    <tr>\n",
       "      <th>1</th>\n",
       "      <td>Batch Gradient Descent</td>\n",
       "      <td>0.648410</td>\n",
       "      <td>21085.088723</td>\n",
       "      <td>[-17.734865422727754, 24972.15775229696, -6324...</td>\n",
       "    </tr>\n",
       "    <tr>\n",
       "      <th>2</th>\n",
       "      <td>Stochastic Gradient Descent</td>\n",
       "      <td>0.648484</td>\n",
       "      <td>21151.312219</td>\n",
       "      <td>[-10.422236675340233, 25920.16728886336, -6656...</td>\n",
       "    </tr>\n",
       "    <tr>\n",
       "      <th>3</th>\n",
       "      <td>Mini-Batch Gradient Descent</td>\n",
       "      <td>0.646966</td>\n",
       "      <td>21050.606082</td>\n",
       "      <td>[116.19148803598031, 24796.275807008707, -6761...</td>\n",
       "    </tr>\n",
       "  </tbody>\n",
       "</table>\n",
       "</div>"
      ],
      "text/plain": [
       "                         Model  R² Score     Intercept  \\\n",
       "0  Linear Regression (sklearn)  0.648494  21085.088759   \n",
       "1       Batch Gradient Descent  0.648410  21085.088723   \n",
       "2  Stochastic Gradient Descent  0.648484  21151.312219   \n",
       "3  Mini-Batch Gradient Descent  0.646966  21050.606082   \n",
       "\n",
       "                                        Coefficients  \n",
       "0  [-13.726194482007166, 25372.59715663501, -6441...  \n",
       "1  [-17.734865422727754, 24972.15775229696, -6324...  \n",
       "2  [-10.422236675340233, 25920.16728886336, -6656...  \n",
       "3  [116.19148803598031, 24796.275807008707, -6761...  "
      ]
     },
     "metadata": {},
     "output_type": "display_data"
    }
   ],
   "source": [
    "results = []\n",
    "\n",
    "# Example for sklearn\n",
    "results.append({\n",
    "    \"Model\": \"Linear Regression (sklearn)\",\n",
    "    \"R² Score\": r2_lr,\n",
    "    \"Intercept\": lr.intercept_,\n",
    "    \"Coefficients\": lr.coef_\n",
    "})\n",
    "\n",
    "# Batch GD\n",
    "results.append({\n",
    "    \"Model\": \"Batch Gradient Descent\",\n",
    "    \"R² Score\": r2_bgd,\n",
    "    \"Intercept\": bgd.intercept_,\n",
    "    \"Coefficients\": bgd.coefficients_\n",
    "})\n",
    "\n",
    "# SGD\n",
    "results.append({\n",
    "    \"Model\": \"Stochastic Gradient Descent\",\n",
    "    \"R² Score\": r2_sgd,\n",
    "    \"Intercept\": sgd.intercept_,\n",
    "    \"Coefficients\": sgd.coefficients_\n",
    "})\n",
    "\n",
    "# Mini-Batch GD\n",
    "results.append({\n",
    "    \"Model\": \"Mini-Batch Gradient Descent\",\n",
    "    \"R² Score\": r2_mbgd,\n",
    "    \"Intercept\": mbgd.intercept_,\n",
    "    \"Coefficients\": mbgd.coefficients_\n",
    "})\n",
    "\n",
    "df_summary = pd.DataFrame(results)\n",
    "\n",
    "from IPython.display import display\n",
    "display(df_summary)\n",
    "\n"
   ]
  }
 ],
 "metadata": {
  "kernelspec": {
   "display_name": ".venv",
   "language": "python",
   "name": "python3"
  },
  "language_info": {
   "codemirror_mode": {
    "name": "ipython",
    "version": 3
   },
   "file_extension": ".py",
   "mimetype": "text/x-python",
   "name": "python",
   "nbconvert_exporter": "python",
   "pygments_lexer": "ipython3",
   "version": "3.13.3"
  }
 },
 "nbformat": 4,
 "nbformat_minor": 5
}
