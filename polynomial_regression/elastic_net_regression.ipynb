{
 "cells": [
  {
   "cell_type": "markdown",
   "id": "cbb92909",
   "metadata": {},
   "source": [
    "# 🔗 Elastic Net Regression (L1 + L2 Regularization)\n",
    "\n",
    "**Elastic Net Regression** is a regularization technique that combines **Lasso (L1)** and **Ridge (L2)** regression to reduce overfitting while enabling **feature selection** and **multicollinearity handling**.\n",
    "\n",
    "---\n",
    "\n",
    "## 🧠 Motivation\n",
    "\n",
    "- **Ridge Regression**: Shrinks all coefficients but **none go to zero**\n",
    "- **Lasso Regression**: Can shrink some coefficients **exactly to zero** (sparse)\n",
    "- **Elastic Net**: A hybrid approach that leverages both Ridge and Lasso benefits ✅\n",
    "\n",
    "---\n",
    "\n",
    "## 🧮 Loss Function\n",
    "\n",
    "$$\n",
    "\\text{Loss} = \\text{MSE} + A \\sum |w_i| + B \\sum w_i^2\n",
    "$$\n",
    "\n",
    "Where:\n",
    "- `MSE` is the Mean Squared Error\n",
    "- `A`: Weight for Lasso (L1 penalty)\n",
    "- `B`: Weight for Ridge (L2 penalty)\n",
    "\n",
    "In **scikit-learn**, this is simplified using:\n",
    "\n",
    "$$\n",
    "\\text{alpha} = A + B,\\quad \\text{l1\\_ratio} = \\frac{A}{A + B}\n",
    "$$\n",
    "\n",
    "| Parameter    | Meaning                                   | Range        |\n",
    "|--------------|--------------------------------------------|--------------|\n",
    "| `alpha`      | Total regularization strength (λ)         | > 0          |\n",
    "| `l1_ratio`   | Proportion of L1 (Lasso) vs. L2 (Ridge)    | [0, 1]       |\n",
    "|              | `0`: pure Ridge, `1`: pure Lasso          |              |\n",
    "\n",
    "---\n",
    "\n",
    "## ⚙️ When to Use Elastic Net\n",
    "\n",
    "- You have **many features**, some of which may be irrelevant\n",
    "- There is **high multicollinearity** among predictors\n",
    "- Unsure whether to choose Ridge or Lasso alone\n",
    "\n",
    "> 🔄 Elastic Net generalizes well by balancing between L1's sparsity and L2's stability.\n",
    "\n",
    "---\n",
    "\n",
    "## 📈 Bias-Variance Trade-off\n",
    "\n",
    "- **Alpha low** → lower regularization → high variance risk\n",
    "- **Alpha high** → more regularization → possible underfitting\n",
    "- **l1_ratio** controls:\n",
    "  - Feature selection (via L1)\n",
    "  - Smooth coefficient shrinkage (via L2)\n",
    "\n",
    "### Trade-off Illustration:\n",
    "\n",
    "| l1_ratio   | Effect                         |\n",
    "|------------|--------------------------------|\n",
    "| 0.0        | Behaves like Ridge             |\n",
    "| 0.5        | Balanced Lasso + Ridge         |\n",
    "| 1.0        | Behaves like Lasso             |\n",
    "\n",
    "---\n",
    "\n",
    "## ✅ Summary\n",
    "\n",
    "| Concept              | Elastic Net Insight                                |\n",
    "|----------------------|----------------------------------------------------|\n",
    "| Regularization Type  | Combined L1 + L2 (Ridge + Lasso)                   |\n",
    "| Strength             | Controlled by `alpha`                             |\n",
    "| Balance              | Controlled by `l1_ratio`                          |\n",
    "| Feature Selection    | ✅ Yes (through L1 component)                      |\n",
    "| Handles Multicollinearity | ✅ Better than Lasso or Ridge alone         |\n",
    "| Implementation       | `sklearn.linear_model.ElasticNet` or `SGDRegressor`|\n",
    "\n",
    "---\n",
    "\n",
    "## 📚 Best Practices\n",
    "\n",
    "- Use **GridSearchCV** or **RandomizedSearchCV** to tune:\n",
    "  - `alpha`\n",
    "  - `l1_ratio`\n",
    "\n",
    "- Always **standardize** features before applying Elastic Net.\n",
    "\n",
    "---\n",
    "\n",
    "## 🔚 Conclusion\n",
    "\n",
    "Elastic Net is a **versatile** and **robust** regularization technique for models with:\n",
    "- **many input features**\n",
    "- **correlated predictors**\n",
    "- a need for **both feature selection and shrinkage**\n",
    "\n"
   ]
  },
  {
   "cell_type": "code",
   "execution_count": 1,
   "id": "8da2dc6c",
   "metadata": {},
   "outputs": [],
   "source": [
    "\n",
    "\n",
    "from sklearn.datasets import load_diabetes\n",
    "from sklearn.linear_model import LinearRegression,Ridge,Lasso,ElasticNet\n",
    "from sklearn.model_selection import train_test_split\n",
    "from sklearn.metrics import r2_score\n",
    "\n",
    "\n",
    "X,y = load_diabetes(return_X_y=True)\n",
    "\n",
    "X_train,X_test,y_train,y_test = train_test_split(X,y,test_size=0.2,random_state=2)"
   ]
  },
  {
   "cell_type": "code",
   "execution_count": 2,
   "id": "166889d7",
   "metadata": {},
   "outputs": [
    {
     "data": {
      "text/plain": [
       "0.4399338661568968"
      ]
     },
     "execution_count": 2,
     "metadata": {},
     "output_type": "execute_result"
    }
   ],
   "source": [
    "\n",
    "\n",
    "# Linear Regression\n",
    "reg = LinearRegression()\n",
    "reg.fit(X_train,y_train)\n",
    "y_pred = reg.predict(X_test)\n",
    "r2_score(y_test,y_pred)\n",
    "\n"
   ]
  },
  {
   "cell_type": "code",
   "execution_count": 3,
   "id": "f085e955",
   "metadata": {},
   "outputs": [
    {
     "data": {
      "text/plain": [
       "0.45199494197195456"
      ]
     },
     "execution_count": 3,
     "metadata": {},
     "output_type": "execute_result"
    }
   ],
   "source": [
    "\n",
    "\n",
    "# Ridge \n",
    "reg = Ridge(alpha=0.1)\n",
    "reg.fit(X_train,y_train)\n",
    "y_pred = reg.predict(X_test)\n",
    "r2_score(y_test,y_pred)\n",
    "\n"
   ]
  },
  {
   "cell_type": "code",
   "execution_count": 4,
   "id": "007ade2a",
   "metadata": {},
   "outputs": [
    {
     "data": {
      "text/plain": [
       "0.44111855963110613"
      ]
     },
     "execution_count": 4,
     "metadata": {},
     "output_type": "execute_result"
    }
   ],
   "source": [
    "\n",
    "\n",
    "# Lasso\n",
    "reg = Lasso(alpha=0.01)\n",
    "reg.fit(X_train,y_train)\n",
    "y_pred = reg.predict(X_test)\n",
    "r2_score(y_test,y_pred)\n",
    "\n"
   ]
  },
  {
   "cell_type": "code",
   "execution_count": 5,
   "id": "1a268f11",
   "metadata": {},
   "outputs": [
    {
     "data": {
      "text/plain": [
       "0.4531474541554823"
      ]
     },
     "execution_count": 5,
     "metadata": {},
     "output_type": "execute_result"
    }
   ],
   "source": [
    "\n",
    "\n",
    "# ElasticNet\n",
    "reg = ElasticNet(alpha=0.005,l1_ratio=0.9)\n",
    "reg.fit(X_train,y_train)\n",
    "y_pred = reg.predict(X_test)\n",
    "r2_score(y_test,y_pred)\n",
    "\n"
   ]
  },
  {
   "cell_type": "code",
   "execution_count": null,
   "id": "1968ef0b",
   "metadata": {},
   "outputs": [],
   "source": []
  }
 ],
 "metadata": {
  "kernelspec": {
   "display_name": ".venv",
   "language": "python",
   "name": "python3"
  },
  "language_info": {
   "codemirror_mode": {
    "name": "ipython",
    "version": 3
   },
   "file_extension": ".py",
   "mimetype": "text/x-python",
   "name": "python",
   "nbconvert_exporter": "python",
   "pygments_lexer": "ipython3",
   "version": "3.13.5"
  }
 },
 "nbformat": 4,
 "nbformat_minor": 5
}
